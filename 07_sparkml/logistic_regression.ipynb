{
 "cells": [
  {
   "cell_type": "markdown",
   "metadata": {},
   "source": [
    "<h1> Logistic Regression using Spark ML </h1>\n",
    "\n",
    "Set up bucket"
   ]
  },
  {
   "cell_type": "code",
   "execution_count": 2,
   "metadata": {
    "collapsed": true
   },
   "outputs": [],
   "source": [
    "BUCKET='cloud-training-demos-ml'\n",
    "\n",
    "os.environ['BUCKET'] = BUCKET"
   ]
  },
  {
   "cell_type": "markdown",
   "metadata": {},
   "source": [
    "In a standalone script, we'd have to do:\n",
    "<pre>\n",
    "from pyspark.sql import SparkSession\n",
    "from pyspark import SparkContext\n",
    "\n",
    "sc = SparkContext('local', 'logistic')\n",
    "spark = SparkSession \\\n",
    "    .builder \\\n",
    "    .appName(\"Logistic regression w/ Spark ML\") \\\n",
    "    .getOrCreate()\n",
    "\n",
    "</pre>\n",
    "But in Datalab, spark and sc already exist"
   ]
  },
  {
   "cell_type": "code",
   "execution_count": 3,
   "metadata": {
    "collapsed": false
   },
   "outputs": [
    {
     "name": "stdout",
     "output_type": "stream",
     "text": [
      "<pyspark.sql.session.SparkSession object at 0x7f36a5e228d0>\n",
      "<SparkContext master=yarn appName=pyspark-shell>\n"
     ]
    }
   ],
   "source": [
    "print spark\n",
    "print sc"
   ]
  },
  {
   "cell_type": "code",
   "execution_count": 4,
   "metadata": {
    "collapsed": true
   },
   "outputs": [],
   "source": [
    "from pyspark.mllib.classification import LogisticRegressionWithLBFGS\n",
    "from pyspark.mllib.regression import LabeledPoint"
   ]
  },
  {
   "cell_type": "markdown",
   "metadata": {},
   "source": [
    "<h2> Read dataset </h2>"
   ]
  },
  {
   "cell_type": "code",
   "execution_count": 5,
   "metadata": {
    "collapsed": false
   },
   "outputs": [],
   "source": [
    "traindays = spark.read \\\n",
    "    .option(\"header\", \"true\") \\\n",
    "    .csv('gs://{}/flights/trainday.csv'.format(BUCKET))\n",
    "traindays.createOrReplaceTempView('traindays')"
   ]
  },
  {
   "cell_type": "code",
   "execution_count": 6,
   "metadata": {
    "collapsed": false
   },
   "outputs": [
    {
     "name": "stdout",
     "output_type": "stream",
     "text": [
      "+----------+------------+\n",
      "|   FL_DATE|is_train_day|\n",
      "+----------+------------+\n",
      "|2015-01-01|        True|\n",
      "|2015-01-04|        True|\n",
      "|2015-01-05|        True|\n",
      "|2015-01-07|        True|\n",
      "|2015-01-08|        True|\n",
      "+----------+------------+\n",
      "\n"
     ]
    }
   ],
   "source": [
    "spark.sql(\"SELECT * from traindays LIMIT 5\").show()"
   ]
  },
  {
   "cell_type": "code",
   "execution_count": 7,
   "metadata": {
    "collapsed": true
   },
   "outputs": [],
   "source": [
    "from pyspark.sql.types import StringType, FloatType, StructType, StructField\n",
    "\n",
    "header = 'FL_DATE,UNIQUE_CARRIER,AIRLINE_ID,CARRIER,FL_NUM,ORIGIN_AIRPORT_ID,ORIGIN_AIRPORT_SEQ_ID,ORIGIN_CITY_MARKET_ID,ORIGIN,DEST_AIRPORT_ID,DEST_AIRPORT_SEQ_ID,DEST_CITY_MARKET_ID,DEST,CRS_DEP_TIME,DEP_TIME,DEP_DELAY,TAXI_OUT,WHEELS_OFF,WHEELS_ON,TAXI_IN,CRS_ARR_TIME,ARR_TIME,ARR_DELAY,CANCELLED,CANCELLATION_CODE,DIVERTED,DISTANCE,DEP_AIRPORT_LAT,DEP_AIRPORT_LON,DEP_AIRPORT_TZOFFSET,ARR_AIRPORT_LAT,ARR_AIRPORT_LON,ARR_AIRPORT_TZOFFSET,EVENT,NOTIFY_TIME'\n",
    "\n",
    "def get_structfield(colname):\n",
    "   if colname in ['ARR_DELAY', 'DEP_DELAY', 'DISTANCE', 'TAXI_OUT']:\n",
    "      return StructField(colname, FloatType(), True)\n",
    "   else:\n",
    "      return StructField(colname, StringType(), True)\n",
    "\n",
    "schema = StructType([get_structfield(colname) for colname in header.split(',')])"
   ]
  },
  {
   "cell_type": "code",
   "execution_count": 8,
   "metadata": {
    "collapsed": true
   },
   "outputs": [],
   "source": [
    "inputs = 'gs://{}/flights/tzcorr/all_flights-00000-*'.format(BUCKET) # 1/30th;  you may have to change this to find a shard that has training data\n",
    "#inputs = 'gs://{}/flights/tzcorr/all_flights-*'.format(BUCKET)  # FULL\n",
    "flights = spark.read\\\n",
    "            .schema(schema)\\\n",
    "            .csv(inputs)\n",
    "\n",
    "# this view can now be queried ...\n",
    "flights.createOrReplaceTempView('flights')"
   ]
  },
  {
   "cell_type": "markdown",
   "metadata": {},
   "source": [
    "<h2> Clean up </h2>"
   ]
  },
  {
   "cell_type": "code",
   "execution_count": 17,
   "metadata": {
    "collapsed": false
   },
   "outputs": [],
   "source": [
    "trainquery = \"\"\"\n",
    "SELECT\n",
    "  f.*\n",
    "FROM flights f\n",
    "JOIN traindays t\n",
    "ON f.FL_DATE == t.FL_DATE\n",
    "WHERE\n",
    "  t.is_train_day == 'True'\n",
    "\"\"\"\n",
    "traindata = spark.sql(trainquery)"
   ]
  },
  {
   "cell_type": "code",
   "execution_count": 18,
   "metadata": {
    "collapsed": false
   },
   "outputs": [
    {
     "name": "stdout",
     "output_type": "stream",
     "text": [
      "[Row(FL_DATE=u'2015-11-26', UNIQUE_CARRIER=u'B6', AIRLINE_ID=u'20409', CARRIER=u'B6', FL_NUM=u'1447', ORIGIN_AIRPORT_ID=u'12197', ORIGIN_AIRPORT_SEQ_ID=u'1219702', ORIGIN_CITY_MARKET_ID=u'31703', ORIGIN=u'HPN', DEST_AIRPORT_ID=u'15304', DEST_AIRPORT_SEQ_ID=u'1530402', DEST_CITY_MARKET_ID=u'33195', DEST=u'TPA', CRS_DEP_TIME=u'2015-11-26T19:10:00', DEP_TIME=u'2015-11-26T19:14:00', DEP_DELAY=4.0, TAXI_OUT=13.0, WHEELS_OFF=u'2015-11-26T19:27:00', WHEELS_ON=u'2015-11-26T21:37:00', TAXI_IN=u'5.00', CRS_ARR_TIME=u'2015-11-26T22:03:00', ARR_TIME=u'2015-11-26T21:42:00', ARR_DELAY=-21.0, CANCELLED=u'0.00', CANCELLATION_CODE=None, DIVERTED=u'0.00', DISTANCE=1032.0, DEP_AIRPORT_LAT=u'41.06694444', DEP_AIRPORT_LON=u'-73.70750000', DEP_AIRPORT_TZOFFSET=u'-18000.0', ARR_AIRPORT_LAT=u'27.97555556', ARR_AIRPORT_LON=u'-82.53333333', ARR_AIRPORT_TZOFFSET=u'-18000.0', EVENT=None, NOTIFY_TIME=None), Row(FL_DATE=u'2015-11-26', UNIQUE_CARRIER=u'B6', AIRLINE_ID=u'20409', CARRIER=u'B6', FL_NUM=u'1454', ORIGIN_AIRPORT_ID=u'14843', ORIGIN_AIRPORT_SEQ_ID=u'1484304', ORIGIN_CITY_MARKET_ID=u'34819', ORIGIN=u'SJU', DEST_AIRPORT_ID=u'11697', DEST_AIRPORT_SEQ_ID=u'1169704', DEST_CITY_MARKET_ID=u'32467', DEST=u'FLL', CRS_DEP_TIME=u'2015-11-26T23:25:00', DEP_TIME=u'2015-11-26T23:36:00', DEP_DELAY=11.0, TAXI_OUT=11.0, WHEELS_OFF=u'2015-11-26T23:47:00', WHEELS_ON=u'2015-11-27T02:12:00', TAXI_IN=u'7.00', CRS_ARR_TIME=u'2015-11-27T02:11:00', ARR_TIME=u'2015-11-27T02:19:00', ARR_DELAY=8.0, CANCELLED=u'0.00', CANCELLATION_CODE=None, DIVERTED=u'0.00', DISTANCE=1046.0, DEP_AIRPORT_LAT=u'18.43944444', DEP_AIRPORT_LON=u'-66.00222222', DEP_AIRPORT_TZOFFSET=u'-14400.0', ARR_AIRPORT_LAT=u'26.07166667', ARR_AIRPORT_LON=u'-80.14972222', ARR_AIRPORT_TZOFFSET=u'-18000.0', EVENT=None, NOTIFY_TIME=None)]\n"
     ]
    }
   ],
   "source": [
    "print traindata.head(2)  # if this is empty, try changing the shard you are using."
   ]
  },
  {
   "cell_type": "code",
   "execution_count": 21,
   "metadata": {
    "collapsed": false
   },
   "outputs": [
    {
     "name": "stdout",
     "output_type": "stream",
     "text": [
      "+-------+----------+--------------+------------------+-------+------------------+------------------+---------------------+---------------------+------+------------------+-------------------+-------------------+----+-------------------+-------------------+------------------+------------------+-------------------+-------------------+-----------------+-------------------+-------------------+------------------+--------------------+-----------------+--------------------+-----------------+------------------+------------------+--------------------+------------------+------------------+--------------------+-----+-----------+\n",
      "|summary|   FL_DATE|UNIQUE_CARRIER|        AIRLINE_ID|CARRIER|            FL_NUM| ORIGIN_AIRPORT_ID|ORIGIN_AIRPORT_SEQ_ID|ORIGIN_CITY_MARKET_ID|ORIGIN|   DEST_AIRPORT_ID|DEST_AIRPORT_SEQ_ID|DEST_CITY_MARKET_ID|DEST|       CRS_DEP_TIME|           DEP_TIME|         DEP_DELAY|          TAXI_OUT|         WHEELS_OFF|          WHEELS_ON|          TAXI_IN|       CRS_ARR_TIME|           ARR_TIME|         ARR_DELAY|           CANCELLED|CANCELLATION_CODE|            DIVERTED|         DISTANCE|   DEP_AIRPORT_LAT|   DEP_AIRPORT_LON|DEP_AIRPORT_TZOFFSET|   ARR_AIRPORT_LAT|   ARR_AIRPORT_LON|ARR_AIRPORT_TZOFFSET|EVENT|NOTIFY_TIME|\n",
      "+-------+----------+--------------+------------------+-------+------------------+------------------+---------------------+---------------------+------+------------------+-------------------+-------------------+----+-------------------+-------------------+------------------+------------------+-------------------+-------------------+-----------------+-------------------+-------------------+------------------+--------------------+-----------------+--------------------+-----------------+------------------+------------------+--------------------+------------------+------------------+--------------------+-----+-----------+\n",
      "|  count|      9559|          9559|              9559|   9559|              9559|              9559|                 9559|                 9559|  9559|              9559|               9559|               9559|9559|               9559|               9533|              9533|              9531|               9531|               9527|             9527|               9559|               9527|              9514|                9559|               31|                9559|             9559|              9559|              9559|                9559|              9559|              9559|                9559|    0|          0|\n",
      "|   mean|      null|          null|19854.703630086828|   null| 2609.077937022701| 12652.85406423266|   1265288.2625797677|    31715.02761795167|  null|12585.991526310283| 1258602.0389162046| 31682.230986504863|null|               null|               null|2.6588691912304627|14.627845976287903|               null|               null|7.149889786921381|               null|               null|-4.238385537103216|0.003243017051992886|             null|0.001464588346061...| 869.220002092269|35.918674925542206|-94.73029416819357| -21903.546396066533| 35.94444581049187|-94.47358455185994|  -21806.75802908254| null|       null|\n",
      "| stddev|      null|          null|402.70507420771446|   null|2053.3431814617616|1522.4049784934023|   152240.17071675116|   1276.3603481399443|  null|1543.5954555365124| 154359.19877849414| 1280.0838349094581|null|               null|               null|29.729841487731417| 7.282754066063705|               null|               null|4.979740156733318|               null|               null|32.565523694571986| 0.05685805211885097|             null|0.038243905845130204|617.1870728197283| 6.320118789761992| 19.16114616034329|   4869.836503663976|6.2752435684194845|19.090188990683455|   4865.578774855603| null|       null|\n",
      "|    min|2015-11-26|            AA|             19393|     AA|                 1|             10135|              1013503|                30070|   ABE|             10135|            1013503|              30070| ABE|2015-11-26T05:55:00|2015-11-26T05:58:00|             -31.0|               2.0|2015-11-26T06:13:00|2015-11-26T09:41:00|             1.00|2015-11-26T10:02:00|2015-11-26T09:49:00|             -62.0|                0.00|                A|                0.00|             31.0|      -14.33000000|     -101.70583333|            -14400.0|      -14.33000000|     -100.74583333|            -14400.0| null|       null|\n",
      "|    max|2015-11-27|            WN|             21171|     WN|               999|             15991|              1599102|                35991|   YAK|             15991|            1599102|              35991| YAK|2015-11-28T10:25:00|2015-11-28T10:03:00|            1631.0|             133.0|2015-11-28T10:16:00|2015-11-28T15:45:00|            93.00|2015-11-29T06:54:00|2015-11-28T15:59:00|            1638.0|                1.00|                B|                1.00|           4983.0|       71.28472222|      -99.46166667|                   0|       71.28472222|      -99.68194444|                   0| null|       null|\n",
      "+-------+----------+--------------+------------------+-------+------------------+------------------+---------------------+---------------------+------+------------------+-------------------+-------------------+----+-------------------+-------------------+------------------+------------------+-------------------+-------------------+-----------------+-------------------+-------------------+------------------+--------------------+-----------------+--------------------+-----------------+------------------+------------------+--------------------+------------------+------------------+--------------------+-----+-----------+\n",
      "\n"
     ]
    }
   ],
   "source": [
    "traindata.describe().show()"
   ]
  },
  {
   "cell_type": "markdown",
   "metadata": {},
   "source": [
    "Note that the counts for the various columns are all different; We have to remove NULLs in the delay variables (these correspond to canceled or diverted flights)."
   ]
  },
  {
   "cell_type": "markdown",
   "metadata": {},
   "source": [
    "<h2> Logistic regression </h2>"
   ]
  },
  {
   "cell_type": "code",
   "execution_count": 29,
   "metadata": {
    "collapsed": false
   },
   "outputs": [
    {
     "name": "stdout",
     "output_type": "stream",
     "text": [
      "+-------+------------------+-----------------+------------------+-----------------+\n",
      "|summary|         DEP_DELAY|         TAXI_OUT|         ARR_DELAY|         DISTANCE|\n",
      "+-------+------------------+-----------------+------------------+-----------------+\n",
      "|  count|              9514|             9514|              9514|             9514|\n",
      "|   mean|2.6394786630229135|14.62528904771915|-4.238385537103216|870.8421273912129|\n",
      "| stddev|29.693248310855065| 7.28500427136442|32.565523694571986| 617.509578518596|\n",
      "|    min|             -31.0|              2.0|             -62.0|             31.0|\n",
      "|    max|            1631.0|            133.0|            1638.0|           4983.0|\n",
      "+-------+------------------+-----------------+------------------+-----------------+\n",
      "\n"
     ]
    }
   ],
   "source": [
    "trainquery = \"\"\"\n",
    "SELECT\n",
    "  DEP_DELAY, TAXI_OUT, ARR_DELAY, DISTANCE\n",
    "FROM flights f\n",
    "JOIN traindays t\n",
    "ON f.FL_DATE == t.FL_DATE\n",
    "WHERE\n",
    "  t.is_train_day == 'True' AND\n",
    "  f.dep_delay IS NOT NULL AND \n",
    "  f.arr_delay IS NOT NULL\n",
    "\"\"\"\n",
    "traindata = spark.sql(trainquery)\n",
    "traindata.describe().show()"
   ]
  },
  {
   "cell_type": "code",
   "execution_count": 30,
   "metadata": {
    "collapsed": false
   },
   "outputs": [
    {
     "name": "stdout",
     "output_type": "stream",
     "text": [
      "+-------+------------------+-----------------+------------------+-----------------+\n",
      "|summary|         DEP_DELAY|         TAXI_OUT|         ARR_DELAY|         DISTANCE|\n",
      "+-------+------------------+-----------------+------------------+-----------------+\n",
      "|  count|              9514|             9514|              9514|             9514|\n",
      "|   mean|2.6394786630229135|14.62528904771915|-4.238385537103216|870.8421273912129|\n",
      "| stddev|29.693248310855065| 7.28500427136442|32.565523694571986| 617.509578518596|\n",
      "|    min|             -31.0|              2.0|             -62.0|             31.0|\n",
      "|    max|            1631.0|            133.0|            1638.0|           4983.0|\n",
      "+-------+------------------+-----------------+------------------+-----------------+\n",
      "\n"
     ]
    }
   ],
   "source": [
    "trainquery = \"\"\"\n",
    "SELECT\n",
    "  DEP_DELAY, TAXI_OUT, ARR_DELAY, DISTANCE\n",
    "FROM flights f\n",
    "JOIN traindays t\n",
    "ON f.FL_DATE == t.FL_DATE\n",
    "WHERE\n",
    "  t.is_train_day == 'True' AND\n",
    "  f.CANCELLED == '0.00' AND \n",
    "  f.DIVERTED == '0.00'\n",
    "\"\"\"\n",
    "traindata = spark.sql(trainquery)\n",
    "traindata.describe().show()"
   ]
  },
  {
   "cell_type": "code",
   "execution_count": 31,
   "metadata": {
    "collapsed": false
   },
   "outputs": [],
   "source": [
    "def to_example(fields):\n",
    "  return LabeledPoint(\\\n",
    "              float(fields['ARR_DELAY'] < 15), #ontime? \\\n",
    "              [ \\\n",
    "                  fields['DEP_DELAY'], \\\n",
    "                  fields['TAXI_OUT'],  \\\n",
    "                  fields['DISTANCE'],  \\\n",
    "              ])"
   ]
  },
  {
   "cell_type": "code",
   "execution_count": 32,
   "metadata": {
    "collapsed": false
   },
   "outputs": [],
   "source": [
    "examples = traindata.rdd.map(to_example)"
   ]
  },
  {
   "cell_type": "code",
   "execution_count": 33,
   "metadata": {
    "collapsed": false
   },
   "outputs": [
    {
     "name": "stdout",
     "output_type": "stream",
     "text": [
      "[-0.162365742978,-0.160228517204,3.75487291939e-05] 5.95703978472\n"
     ]
    }
   ],
   "source": [
    "lrmodel = LogisticRegressionWithLBFGS.train(examples, intercept=True)\n",
    "print lrmodel.weights,lrmodel.intercept"
   ]
  },
  {
   "cell_type": "code",
   "execution_count": 34,
   "metadata": {
    "collapsed": false
   },
   "outputs": [
    {
     "name": "stdout",
     "output_type": "stream",
     "text": [
      "1\n",
      "0\n"
     ]
    }
   ],
   "source": [
    "print lrmodel.predict([6.0,12.0,594.0])\n",
    "print lrmodel.predict([36.0,12.0,594.0])"
   ]
  },
  {
   "cell_type": "code",
   "execution_count": 35,
   "metadata": {
    "collapsed": false
   },
   "outputs": [
    {
     "name": "stdout",
     "output_type": "stream",
     "text": [
      "0.956161192349\n",
      "0.143248721331\n"
     ]
    }
   ],
   "source": [
    "lrmodel.clearThreshold()\n",
    "print lrmodel.predict([6.0,12.0,594.0])\n",
    "print lrmodel.predict([36.0,12.0,594.0])"
   ]
  },
  {
   "cell_type": "code",
   "execution_count": 36,
   "metadata": {
    "collapsed": false
   },
   "outputs": [
    {
     "name": "stdout",
     "output_type": "stream",
     "text": [
      "1\n",
      "0\n"
     ]
    }
   ],
   "source": [
    "lrmodel.setThreshold(0.7) # cancel if prob-of-ontime < 0.7\n",
    "print lrmodel.predict([6.0,12.0,594.0])\n",
    "print lrmodel.predict([36.0,12.0,594.0])"
   ]
  },
  {
   "cell_type": "markdown",
   "metadata": {},
   "source": [
    "<h2> Predict with the model </h2>\n",
    "\n",
    "First save the model"
   ]
  },
  {
   "cell_type": "code",
   "execution_count": null,
   "metadata": {
    "collapsed": false
   },
   "outputs": [],
   "source": [
    "!gsutil -m rm -r gs://$BUCKET/flights/sparkmloutput/model"
   ]
  },
  {
   "cell_type": "code",
   "execution_count": 38,
   "metadata": {
    "collapsed": false
   },
   "outputs": [],
   "source": [
    "MODEL_FILE='gs://' + BUCKET + '/flights/sparkmloutput/model'"
   ]
  },
  {
   "cell_type": "code",
   "execution_count": null,
   "metadata": {
    "collapsed": false
   },
   "outputs": [],
   "source": [
    "lrmodel.save(sc, MODEL_FILE)\n",
    "print '{} saved'.format(MODEL_FILE)"
   ]
  },
  {
   "cell_type": "code",
   "execution_count": 40,
   "metadata": {
    "collapsed": false
   },
   "outputs": [
    {
     "name": "stdout",
     "output_type": "stream",
     "text": [
      "0\n"
     ]
    }
   ],
   "source": [
    "lrmodel = 0\n",
    "print lrmodel"
   ]
  },
  {
   "cell_type": "markdown",
   "metadata": {},
   "source": [
    "Now retrieve the model"
   ]
  },
  {
   "cell_type": "code",
   "execution_count": 41,
   "metadata": {
    "collapsed": false
   },
   "outputs": [],
   "source": [
    "from pyspark.mllib.classification import LogisticRegressionModel\n",
    "lrmodel = LogisticRegressionModel.load(sc, MODEL_FILE)\n",
    "lrmodel.setThreshold(0.7)"
   ]
  },
  {
   "cell_type": "code",
   "execution_count": 42,
   "metadata": {
    "collapsed": false
   },
   "outputs": [
    {
     "name": "stdout",
     "output_type": "stream",
     "text": [
      "0\n"
     ]
    }
   ],
   "source": [
    "print lrmodel.predict([36.0,12.0,594.0])"
   ]
  },
  {
   "cell_type": "code",
   "execution_count": 43,
   "metadata": {
    "collapsed": false
   },
   "outputs": [
    {
     "name": "stdout",
     "output_type": "stream",
     "text": [
      "1\n"
     ]
    }
   ],
   "source": [
    "print lrmodel.predict([8.0,4.0,594.0])"
   ]
  },
  {
   "cell_type": "markdown",
   "metadata": {},
   "source": [
    "<h2> Examine the model behavior </h2>\n",
    "\n",
    "For dep_delay=20 and taxiout=10, how does the distance affect prediction?"
   ]
  },
  {
   "cell_type": "code",
   "execution_count": 44,
   "metadata": {
    "collapsed": false
   },
   "outputs": [
    {
     "name": "stdout",
     "output_type": "stream",
     "text": [
      "0.755139551394\n"
     ]
    }
   ],
   "source": [
    "lrmodel.clearThreshold() # to make the model produce probabilities\n",
    "print lrmodel.predict([20, 10, 500])"
   ]
  },
  {
   "cell_type": "code",
   "execution_count": 45,
   "metadata": {
    "collapsed": false
   },
   "outputs": [],
   "source": [
    "import matplotlib.pyplot as plt\n",
    "import seaborn as sns\n",
    "import pandas as pd\n",
    "import numpy as np\n",
    "dist = np.arange(10, 2000, 10)\n",
    "prob = [lrmodel.predict([20, 10, d]) for d in dist]"
   ]
  },
  {
   "cell_type": "code",
   "execution_count": 46,
   "metadata": {
    "collapsed": false
   },
   "outputs": [
    {
     "data": {
      "text/plain": [
       "<matplotlib.text.Text at 0x7f36a5c2a3d0>"
      ]
     },
     "execution_count": 46,
     "metadata": {},
     "output_type": "execute_result"
    },
    {
     "data": {
      "image/png": "[encoded data removed]",
      "text/plain": [
       "<matplotlib.figure.Figure at 0x7f36a5d56690>"
      ]
     },
     "metadata": {},
     "output_type": "display_data"
    }
   ],
   "source": [
    "sns.set_style(\"whitegrid\")\n",
    "ax = plt.plot(dist, prob)\n",
    "plt.xlabel('distance (miles)')\n",
    "plt.ylabel('probability of ontime arrival')"
   ]
  },
  {
   "cell_type": "code",
   "execution_count": 47,
   "metadata": {
    "collapsed": false
   },
   "outputs": [
    {
     "data": {
      "text/plain": [
       "<matplotlib.text.Text at 0x7f36a4423290>"
      ]
     },
     "execution_count": 47,
     "metadata": {},
     "output_type": "execute_result"
    },
    {
     "data": {
      "image/png": "[encoded data removed]",
      "text/plain": [
       "<matplotlib.figure.Figure at 0x7f36a5cc6e90>"
      ]
     },
     "metadata": {},
     "output_type": "display_data"
    }
   ],
   "source": [
    "delay = np.arange(-20, 60, 1)\n",
    "prob = [lrmodel.predict([d, 10, 500]) for d in delay]\n",
    "ax = plt.plot(delay, prob)\n",
    "plt.xlabel('departure delay (minutes)')\n",
    "plt.ylabel('probability of ontime arrival')"
   ]
  },
  {
   "cell_type": "markdown",
   "metadata": {},
   "source": [
    "<h2> Evaluate model </h2>\n",
    "\n",
    "Evaluate on the test data"
   ]
  },
  {
   "cell_type": "code",
   "execution_count": 52,
   "metadata": {
    "collapsed": false
   },
   "outputs": [
    {
     "name": "stdout",
     "output_type": "stream",
     "text": [
      "\n",
      "SELECT\n",
      "  DEP_DELAY, TAXI_OUT, ARR_DELAY, DISTANCE\n",
      "FROM flights f\n",
      "JOIN traindays t\n",
      "ON f.FL_DATE == t.FL_DATE\n",
      "WHERE\n",
      "  t.is_train_day == 'False' AND\n",
      "  f.CANCELLED == '0.00' AND \n",
      "  f.DIVERTED == '0.00'\n",
      "\n"
     ]
    }
   ],
   "source": [
    "inputs = 'gs://{}/flights/tzcorr/all_flights-00001-*'.format(BUCKET) # you may have to change this to find a shard that has test data\n",
    "flights = spark.read\\\n",
    "            .schema(schema)\\\n",
    "            .csv(inputs)\n",
    "flights.createOrReplaceTempView('flights')\n",
    "testquery = trainquery.replace(\"t.is_train_day == 'True'\",\"t.is_train_day == 'False'\")\n",
    "print testquery"
   ]
  },
  {
   "cell_type": "code",
   "execution_count": 53,
   "metadata": {
    "collapsed": true
   },
   "outputs": [],
   "source": [
    "testdata = spark.sql(testquery)\n",
    "examples = testdata.rdd.map(to_example)"
   ]
  },
  {
   "cell_type": "code",
   "execution_count": 54,
   "metadata": {
    "collapsed": false
   },
   "outputs": [
    {
     "name": "stdout",
     "output_type": "stream",
     "text": [
      "+-------+-----------------+------------------+------------------+-----------------+\n",
      "|summary|        DEP_DELAY|          TAXI_OUT|         ARR_DELAY|         DISTANCE|\n",
      "+-------+-----------------+------------------+------------------+-----------------+\n",
      "|  count|            31721|             31721|             31721|            31721|\n",
      "|   mean|22.06188329497809|17.100438195517164|18.437785694019734|861.5131301030863|\n",
      "| stddev|55.27263492541411|  9.92470074434109| 58.42307362543692| 623.824325676582|\n",
      "|    min|            -43.0|               1.0|             -65.0|             31.0|\n",
      "|    max|           1239.0|             140.0|            1214.0|           4983.0|\n",
      "+-------+-----------------+------------------+------------------+-----------------+\n",
      "\n"
     ]
    }
   ],
   "source": [
    "testdata.describe().show()  # if this is empty, change the shard you are using"
   ]
  },
  {
   "cell_type": "code",
   "execution_count": 55,
   "metadata": {
    "collapsed": false
   },
   "outputs": [
    {
     "name": "stdout",
     "output_type": "stream",
     "text": [
      "All flights:\n",
      "{'correct_cancel': 0.8220530174844896, 'total_noncancel': 21083, 'correct_noncancel': 0.938765830289807, 'total_cancel': 10638}\n",
      "Flights near decision threshold:\n",
      "{'correct_cancel': 0.30975143403441685, 'total_noncancel': 461, 'correct_noncancel': 0.7700650759219089, 'total_cancel': 523}\n"
     ]
    }
   ],
   "source": [
    "def eval(labelpred):\n",
    "    cancel = labelpred.filter(lambda (label, pred): pred < 0.7)\n",
    "    nocancel = labelpred.filter(lambda (label, pred): pred >= 0.7)\n",
    "    corr_cancel = cancel.filter(lambda (label, pred): label == int(pred >= 0.7)).count()\n",
    "    corr_nocancel = nocancel.filter(lambda (label, pred): label == int(pred >= 0.7)).count()\n",
    "    \n",
    "    cancel_denom = cancel.count()\n",
    "    nocancel_denom = nocancel.count()\n",
    "    if cancel_denom == 0:\n",
    "        cancel_denom = 1\n",
    "    if nocancel_denom == 0:\n",
    "        nocancel_denom = 1\n",
    "    return {'total_cancel': cancel.count(), \\\n",
    "            'correct_cancel': float(corr_cancel)/cancel_denom, \\\n",
    "            'total_noncancel': nocancel.count(), \\\n",
    "            'correct_noncancel': float(corr_nocancel)/nocancel_denom \\\n",
    "           }\n",
    "\n",
    "# Evaluate model\n",
    "lrmodel.clearThreshold() # so it returns probabilities\n",
    "labelpred = examples.map(lambda p: (p.label, lrmodel.predict(p.features)))\n",
    "print 'All flights:'\n",
    "print eval(labelpred)\n",
    "\n",
    "# keep only those examples near the decision threshold\n",
    "print 'Flights near decision threshold:'\n",
    "labelpred = labelpred.filter(lambda (label, pred): pred > 0.65 and pred < 0.75)\n",
    "print eval(labelpred)"
   ]
  },
  {
   "cell_type": "code",
   "execution_count": null,
   "metadata": {
    "collapsed": true
   },
   "outputs": [],
   "source": []
  }
 ],
 "metadata": {
  "kernelspec": {
   "display_name": "Python 2",
   "language": "python",
   "name": "python2"
  },
  "language_info": {
   "codemirror_mode": {
    "name": "ipython",
    "version": 2
   },
   "file_extension": ".py",
   "mimetype": "text/x-python",
   "name": "python",
   "nbconvert_exporter": "python",
   "pygments_lexer": "ipython2",
   "version": "2.7.12"
  }
 },
 "nbformat": 4,
 "nbformat_minor": 2
}
